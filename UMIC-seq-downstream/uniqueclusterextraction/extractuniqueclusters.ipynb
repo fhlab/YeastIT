{
 "cells": [
  {
   "cell_type": "code",
   "execution_count": 30,
   "metadata": {},
   "outputs": [],
   "source": [
    "!snp-sites -mv -o consensus_sequences_BC02_YeastIT1_snps consensus_sequences_BC02_YeastIT1_alignment.fasta"
   ]
  },
  {
   "cell_type": "code",
   "execution_count": 59,
   "metadata": {},
   "outputs": [],
   "source": [
    "!snp-sites -mv -o consensus_sequences_BC03_YeastIT2_snps consensus_sequences_BC03_YeastIT2_alignment.fasta"
   ]
  },
  {
   "cell_type": "code",
   "execution_count": 55,
   "metadata": {},
   "outputs": [],
   "source": [
    "!awk '{if (++dup[$0] == 1) print $0;}' consensus_sequences_BC02_YeastIT1_snps.snp_sites.aln > consensus_sequences_BC02_YeastIT1_snps_unique.snp_sites.aln"
   ]
  },
  {
   "cell_type": "code",
   "execution_count": 66,
   "metadata": {},
   "outputs": [],
   "source": [
    "!awk 'BEGIN {lasta=\"XXX\"} {if ($0 !~ /^ *>/) printf(\"%s\\n%s\\n\",lasta,$0);   lasta=$0;}'  consensus_sequences_BC02_YeastIT1_snps_unique.snp_sites.aln > consensus_sequences_BC02_YeastIT1_snps_unique_cleaned.snp_sites.aln"
   ]
  },
  {
   "cell_type": "code",
   "execution_count": 67,
   "metadata": {},
   "outputs": [
    {
     "name": "stdout",
     "output_type": "stream",
     "text": [
      "    1012 consensus_sequences_BC02_YeastIT1_snps_unique_cleaned.snp_sites.aln\r\n"
     ]
    }
   ],
   "source": [
    "!wc -l consensus_sequences_BC02_YeastIT1_snps_unique_cleaned.snp_sites.aln"
   ]
  },
  {
   "cell_type": "code",
   "execution_count": 68,
   "metadata": {},
   "outputs": [
    {
     "data": {
      "text/plain": [
       "506.0"
      ]
     },
     "execution_count": 68,
     "metadata": {},
     "output_type": "execute_result"
    }
   ],
   "source": [
    "1012/2 #no of unique clusters"
   ]
  },
  {
   "cell_type": "code",
   "execution_count": 69,
   "metadata": {},
   "outputs": [],
   "source": [
    "!grep -hr \">\" consensus_sequences_BC02_YeastIT1_snps_unique_cleaned.snp_sites.aln > uniqueclusters_bc02_yeastit1.txt"
   ]
  },
  {
   "cell_type": "code",
   "execution_count": 70,
   "metadata": {},
   "outputs": [],
   "source": [
    "!sed 's/>consensus_//g' uniqueclusters_bc02_yeastit1.txt > uniqueclusters_bc02_yeastit1_names.txt"
   ]
  },
  {
   "cell_type": "code",
   "execution_count": 71,
   "metadata": {},
   "outputs": [],
   "source": [
    "!grep -wFf uniqueclusters_bc02_yeastit1_names.txt allsamples_bc02.vcf.maf > allsamples_bc02_unique.vcf.maf"
   ]
  },
  {
   "cell_type": "code",
   "execution_count": 72,
   "metadata": {},
   "outputs": [],
   "source": [
    "!awk '{if (++dup[$0] == 1) print $0;}' consensus_sequences_BC03_YeastIT2_snps.snp_sites.aln > consensus_sequences_BC03_YeastIT2_snps_unique.snp_sites.aln"
   ]
  },
  {
   "cell_type": "code",
   "execution_count": 73,
   "metadata": {},
   "outputs": [],
   "source": [
    "!awk 'BEGIN {lasta=\"XXX\"} {if ($0 !~ /^ *>/) printf(\"%s\\n%s\\n\",lasta,$0);   lasta=$0;}'  consensus_sequences_BC03_YeastIT2_snps_unique.snp_sites.aln > consensus_sequences_BC03_YeastIT2_snps_unique_cleaned.snp_sites.aln"
   ]
  },
  {
   "cell_type": "code",
   "execution_count": 74,
   "metadata": {},
   "outputs": [
    {
     "name": "stdout",
     "output_type": "stream",
     "text": [
      "     402 consensus_sequences_BC03_YeastIT2_snps_unique_cleaned.snp_sites.aln\r\n"
     ]
    }
   ],
   "source": [
    "!wc -l consensus_sequences_BC03_YeastIT2_snps_unique_cleaned.snp_sites.aln"
   ]
  },
  {
   "cell_type": "code",
   "execution_count": 75,
   "metadata": {},
   "outputs": [
    {
     "data": {
      "text/plain": [
       "201.0"
      ]
     },
     "execution_count": 75,
     "metadata": {},
     "output_type": "execute_result"
    }
   ],
   "source": [
    "402/2 #no of unique clusters"
   ]
  },
  {
   "cell_type": "code",
   "execution_count": 76,
   "metadata": {},
   "outputs": [],
   "source": [
    "!grep -hr \">\" consensus_sequences_BC03_YeastIT2_snps_unique_cleaned.snp_sites.aln > uniqueclusters_bc03_yeastit2.txt"
   ]
  },
  {
   "cell_type": "code",
   "execution_count": 77,
   "metadata": {},
   "outputs": [],
   "source": [
    "!sed 's/>consensus_//g' uniqueclusters_bc03_yeastit2.txt > uniqueclusters_bc03_yeastit2_names.txt"
   ]
  },
  {
   "cell_type": "code",
   "execution_count": 78,
   "metadata": {},
   "outputs": [],
   "source": [
    "!grep -wFf uniqueclusters_bc03_yeastit2_names.txt allsamples_bc03.vcf.maf > allsamples_bc03_unique.vcf.maf"
   ]
  },
  {
   "cell_type": "code",
   "execution_count": 85,
   "metadata": {},
   "outputs": [],
   "source": [
    "!awk '$6>251 && $6<1269{print > \"cdsonly_allsamples_bc02_unique.vcf.maf\"}' allsamples_bc02_unique.vcf.maf"
   ]
  },
  {
   "cell_type": "code",
   "execution_count": 86,
   "metadata": {},
   "outputs": [],
   "source": [
    "!awk '$6>251 && $6<1269{print > \"cdsonly_allsamples_bc03_unique.vcf.maf\"}' allsamples_bc03_unique.vcf.maf"
   ]
  },
  {
   "cell_type": "code",
   "execution_count": 91,
   "metadata": {},
   "outputs": [
    {
     "name": "stdout",
     "output_type": "stream",
     "text": [
      "    2505\r\n"
     ]
    }
   ],
   "source": [
    "!grep -iw \"SNP\" cdsonly_allsamples_bc02_unique.vcf.maf | wc -l #total no of point mutations in she1 cds in unique clusters - bc02"
   ]
  },
  {
   "cell_type": "code",
   "execution_count": 94,
   "metadata": {},
   "outputs": [
    {
     "name": "stdout",
     "output_type": "stream",
     "text": [
      "     201\r\n"
     ]
    }
   ],
   "source": [
    "!grep -iw \"SNP\" cdsonly_allsamples_bc03_unique.vcf.maf | wc -l #total no of point mutations in she1 cds in unique clusters - bc03"
   ]
  }
 ],
 "metadata": {
  "kernelspec": {
   "display_name": "Python 3",
   "language": "python",
   "name": "python3"
  },
  "language_info": {
   "codemirror_mode": {
    "name": "ipython",
    "version": 3
   },
   "file_extension": ".py",
   "mimetype": "text/x-python",
   "name": "python",
   "nbconvert_exporter": "python",
   "pygments_lexer": "ipython3",
   "version": "3.7.6"
  }
 },
 "nbformat": 4,
 "nbformat_minor": 4
}
